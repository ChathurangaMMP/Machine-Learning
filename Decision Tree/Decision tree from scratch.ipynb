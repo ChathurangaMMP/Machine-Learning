{
 "cells": [
  {
   "cell_type": "markdown",
   "metadata": {},
   "source": [
    "# Decision Tree algorithm from scratch"
   ]
  },
  {
   "cell_type": "markdown",
   "metadata": {},
   "source": [
    "This is a **classification algorithm**, and it is used to represent all the possible solutions to a decision in a graphical way. it is much similar to the way what we used to make decisions using tree methods manually."
   ]
  },
  {
   "cell_type": "markdown",
   "metadata": {},
   "source": [
    "The procedure of building this algorithm from base is little bit long. For the implementation in this notebook, a very simple dataset has used. "
   ]
  },
  {
   "cell_type": "code",
   "execution_count": 1,
   "metadata": {},
   "outputs": [],
   "source": [
    "sample_data=[\n",
    "    ['Green',3,'Mango'],\n",
    "    ['Yellow',3,'Mango'],\n",
    "    ['Red',1,'Grape'],\n",
    "    ['Red',1,'Grape'],\n",
    "    ['Yellow',3,'Lemon']\n",
    "]"
   ]
  },
  {
   "cell_type": "markdown",
   "metadata": {},
   "source": [
    "Next, we can give headers for data columns. They will be useful for handling our sample dataset."
   ]
  },
  {
   "cell_type": "code",
   "execution_count": 2,
   "metadata": {},
   "outputs": [],
   "source": [
    "header=['color','diameter','label']"
   ]
  },
  {
   "cell_type": "markdown",
   "metadata": {},
   "source": [
    "To implement this algorithm, lots of functions and classes are required. Let’s define them one by one. \n",
    "\n",
    "First, we have to define a function to get the **unique values** of a column. There are two parameters in **unique_vals** function. \n",
    "**rows** parameter represents a list of lists, and each list includes the values corresponding to a row. \n",
    "**col** is an integer parameter and it holds the index of the column which we want to get unique values. "
   ]
  },
  {
   "cell_type": "code",
   "execution_count": 3,
   "metadata": {},
   "outputs": [],
   "source": [
    "def unique_vals(rows,col):\n",
    "    return set([row[col] for row in rows])"
   ]
  },
  {
   "cell_type": "markdown",
   "metadata": {},
   "source": [
    "Next the count of each label has got. **class_count** is a single parameter function, and the **rows** parameter represents a list of lists which have row data. The label name and the count of it are stored in the **counts** dictionary. "
   ]
  },
  {
   "cell_type": "code",
   "execution_count": 4,
   "metadata": {},
   "outputs": [],
   "source": [
    "def class_count(rows):\n",
    "    counts={}\n",
    "    for row in rows: \n",
    "        label=row[-1] # in this dataset the label is always last column\n",
    "        if label not in counts:\n",
    "            counts[label]=0\n",
    "        counts[label]+=1\n",
    "    return counts"
   ]
  },
  {
   "cell_type": "markdown",
   "metadata": {},
   "source": [
    "Then we need a function to check whether a value is **numeric** or not. For that the **is_numeric** function has developed. The parameter **value** is the value which we want to check the data type. The method used in this function is the **isinstance(value, data type)**. It simply returns **True** or **False** by comparing the *value* and *data type* parameters. This is a built-in python method that can be used to verify the data type of values. "
   ]
  },
  {
   "cell_type": "code",
   "execution_count": 6,
   "metadata": {},
   "outputs": [],
   "source": [
    "def is_numeric(value):\n",
    "    return isinstance(value,int) or isinstance(value,float)"
   ]
  },
  {
   "cell_type": "markdown",
   "metadata": {},
   "source": [
    "When the Tree builds, the **partitioning** is an important stage. It divides the dataset. To do so, we need **questions**. The following **class** is coded for that. \n",
    "\n",
    "**__init__** method defines two variables called **column** and **value**. Those are the **column index** and the **feature value** respectively. Actual dataset values are going to be compared with these.\n",
    "\n",
    "Next the **match** method compares the above two values and the corresponding actual dataset values to check whether they satisfy our conditions in the example. The two conditions that are used here, \n",
    "- If the value is *numeric* then it should be greater than the *value* defined in the class.\n",
    "- If the value is *not numeric* then it should be equal to the *label* in the *column* index.\n"
   ]
  },
  {
   "cell_type": "code",
   "execution_count": 7,
   "metadata": {},
   "outputs": [],
   "source": [
    "class Question:\n",
    "    \n",
    "    def __init__(self,column,value):\n",
    "        self.column=column\n",
    "        self.value=value\n",
    "        \n",
    "    def match(self,example):\n",
    "        # compare the feature value in an example with the feature value in this question\n",
    "        val=example[self.column]\n",
    "        if is_numeric(val):\n",
    "            return val>=self.value\n",
    "        else:\n",
    "            return val==self.value\n",
    "        \n",
    "    def __repr__(self):\n",
    "        # just a helper to represent question in readable format\n",
    "        condition='=='\n",
    "        if is_numeric(self.value):\n",
    "            condition='>='\n",
    "        return 'Is %s %s %s?'%(header[self.column],condition,str(self.value))"
   ]
  },
  {
   "cell_type": "code",
   "execution_count": null,
   "metadata": {},
   "outputs": [],
   "source": []
  }
 ],
 "metadata": {
  "kernelspec": {
   "display_name": "Python 3",
   "language": "python",
   "name": "python3"
  },
  "language_info": {
   "codemirror_mode": {
    "name": "ipython",
    "version": 3
   },
   "file_extension": ".py",
   "mimetype": "text/x-python",
   "name": "python",
   "nbconvert_exporter": "python",
   "pygments_lexer": "ipython3",
   "version": "3.8.5"
  }
 },
 "nbformat": 4,
 "nbformat_minor": 4
}
