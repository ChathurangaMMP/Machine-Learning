{
 "cells": [
  {
   "cell_type": "markdown",
   "metadata": {},
   "source": [
    "# K Nearest Neighbors algorithm from scratch"
   ]
  },
  {
   "cell_type": "markdown",
   "metadata": {},
   "source": [
    "KNN is a **classification** algorithm widely uses in *Amazon* and *Netflix*. It makes predictions by comparing **K** number of adjacent datapoints. This **K** value should be an odd value. \n",
    "\n",
    "One special thing about this algorithm is, it doesn’t have a *training process*. It memories things and makes predictions at the model executing time. Because of that KNN is known as **lazy learner algorithm**."
   ]
  },
  {
   "cell_type": "markdown",
   "metadata": {},
   "source": [
    "Here we are going to implement the algorithm from scratch, hence all the main functions are going to define. \n",
    "\n",
    "First, we have to load and read the dataset. Loading process is done by using **with open()** function. We have randomly split the dataset into training and testing parts while it is reading."
   ]
  },
  {
   "cell_type": "code",
   "execution_count": 1,
   "metadata": {},
   "outputs": [],
   "source": [
    "import random\n",
    "import csv\n",
    "\n",
    "def load_data(filename,split_size,trainset=[],testset=[]):\n",
    "    with open(filename,'r') as file:\n",
    "        rows=csv.reader(file)\n",
    "        data=list(rows)\n",
    "        for i in range(1,len(data)-1):\n",
    "            #for j in range(1,5):\n",
    "                #data[i][j]=float(data[i][j])\n",
    "            if random.random()<split_size:\n",
    "                trainset.append(data[i])\n",
    "            else:\n",
    "                testset.append(data[i])"
   ]
  },
  {
   "cell_type": "markdown",
   "metadata": {},
   "source": [
    "Then we need a method to measure distance to adjacent points for the purpose of identifying *nearest neighbors*. For this, we calculate the **Euclidean distance** and the following function can be used for that. \n",
    "\n",
    "The equation to calculate *Euclidean distance* between two points named **P** and **Q** is as follows. \n",
    "\n",
    "\\begin{equation}\n",
    "P = (x_1,y_1,z_1)\n",
    "\\end{equation}"
   ]
  },
  {
   "cell_type": "markdown",
   "metadata": {},
   "source": [
    "\\begin{equation}\n",
    "Q = (x_2,y_2,z_2)\n",
    "\\end{equation}"
   ]
  },
  {
   "cell_type": "markdown",
   "metadata": {},
   "source": [
    "\\begin{equation}\n",
    "Distance = \\sqrt{(x_1 - x_2)^2 + (y_1 - y_2)^2 + (z_1 - z_2)^2}\n",
    "\\end{equation}"
   ]
  },
  {
   "cell_type": "code",
   "execution_count": 2,
   "metadata": {},
   "outputs": [],
   "source": [
    "import math\n",
    "\n",
    "def euclidean_distance(point1,point2,index_len):\n",
    "    distance=0\n",
    "    for i in range(1,index_len):\n",
    "        distance+=pow((float(point1[i])-float(point2[i])),2)\n",
    "    return math.sqrt(distance)"
   ]
  },
  {
   "cell_type": "markdown",
   "metadata": {},
   "source": [
    "**get_neighbors()** function is used to identify the nearest *k* number of neighbors. \n",
    "\n",
    "First, it calculates the Euclidean distance to each training data point from the test point and store it as a tuple with the data point. Then those stored data is sorted by the distance. **operator.itemgetter(1)** is used to sort the data according to distance. At the end, the nearest k number of points are returned. "
   ]
  },
  {
   "cell_type": "code",
   "execution_count": 7,
   "metadata": {},
   "outputs": [],
   "source": [
    "import operator\n",
    "\n",
    "def get_neighbors(trainset,testpoint,k):\n",
    "    distance=[]\n",
    "    index_len=len(testpoint)-1\n",
    "    for n in range(len(trainset)):\n",
    "        dist=euclidean_distance(testpoint,trainset[n],index_len)\n",
    "        distance.append((trainset[n],dist))\n",
    "    distance.sort(key=operator.itemgetter(1))\n",
    "    neighbors=[]\n",
    "    for m in range(k):\n",
    "        neighbors.append(distance[m][0])\n",
    "    return neighbors"
   ]
  },
  {
   "cell_type": "markdown",
   "metadata": {},
   "source": [
    "Next, the found neighbors can be divided into corresponding groups. The aim of this is to find the group which has the greatest number of neighbor data points. "
   ]
  },
  {
   "cell_type": "code",
   "execution_count": 4,
   "metadata": {},
   "outputs": [],
   "source": [
    "def get_response(neighbors):\n",
    "    votes={}\n",
    "    for f in range(len(neighbors)):\n",
    "        response=neighbors[f][-1]\n",
    "        if response in votes:\n",
    "            votes[response]+=1\n",
    "        else:\n",
    "            votes[response]=1\n",
    "    sortedvotes=sorted(votes.items(),key=operator.itemgetter(1),reverse=True)\n",
    "    return sortedvotes[0][0]"
   ]
  },
  {
   "cell_type": "markdown",
   "metadata": {},
   "source": [
    "The following simple function can be used to evaluate the model by calculating the accuracy level. "
   ]
  },
  {
   "cell_type": "code",
   "execution_count": 5,
   "metadata": {},
   "outputs": [],
   "source": [
    "def get_accuracy(testset,predictions):\n",
    "    correct=0\n",
    "    for g in range(len(testset)):\n",
    "        if testset[g][-1] == predictions[g]:\n",
    "            correct+=1\n",
    "    return (correct/float(len(testset)))*100.0"
   ]
  },
  {
   "cell_type": "markdown",
   "metadata": {},
   "source": [
    "By combining all those functions, we can build our KNN classifier model as follows. "
   ]
  },
  {
   "cell_type": "code",
   "execution_count": 11,
   "metadata": {},
   "outputs": [
    {
     "name": "stdout",
     "output_type": "stream",
     "text": [
      "Train:  98\n",
      "Test:  51\n",
      "Iris-setosa Iris-setosa\n",
      "Iris-setosa Iris-setosa\n",
      "Iris-setosa Iris-setosa\n",
      "Iris-setosa Iris-setosa\n",
      "Iris-setosa Iris-setosa\n",
      "Iris-setosa Iris-setosa\n",
      "Iris-setosa Iris-setosa\n",
      "Iris-setosa Iris-setosa\n",
      "Iris-setosa Iris-setosa\n",
      "Iris-setosa Iris-setosa\n",
      "Iris-setosa Iris-setosa\n",
      "Iris-setosa Iris-setosa\n",
      "Iris-setosa Iris-setosa\n",
      "Iris-setosa Iris-setosa\n",
      "Iris-setosa Iris-setosa\n",
      "Iris-setosa Iris-setosa\n",
      "Iris-setosa Iris-setosa\n",
      "Iris-setosa Iris-setosa\n",
      "Iris-setosa Iris-setosa\n",
      "Iris-setosa Iris-setosa\n",
      "Iris-versicolor Iris-versicolor\n",
      "Iris-versicolor Iris-versicolor\n",
      "Iris-versicolor Iris-versicolor\n",
      "Iris-versicolor Iris-versicolor\n",
      "Iris-versicolor Iris-versicolor\n",
      "Iris-versicolor Iris-versicolor\n",
      "Iris-versicolor Iris-versicolor\n",
      "Iris-versicolor Iris-versicolor\n",
      "Iris-versicolor Iris-versicolor\n",
      "Iris-versicolor Iris-versicolor\n",
      "Iris-versicolor Iris-versicolor\n",
      "Iris-versicolor Iris-versicolor\n",
      "Iris-versicolor Iris-versicolor\n",
      "Iris-virginica Iris-versicolor\n",
      "Iris-versicolor Iris-versicolor\n",
      "Iris-versicolor Iris-versicolor\n",
      "Iris-versicolor Iris-versicolor\n",
      "Iris-virginica Iris-virginica\n",
      "Iris-versicolor Iris-virginica\n",
      "Iris-virginica Iris-virginica\n",
      "Iris-virginica Iris-virginica\n",
      "Iris-virginica Iris-virginica\n",
      "Iris-virginica Iris-virginica\n",
      "Iris-virginica Iris-virginica\n",
      "Iris-virginica Iris-virginica\n",
      "Iris-virginica Iris-virginica\n",
      "Iris-virginica Iris-virginica\n",
      "Iris-virginica Iris-virginica\n",
      "Iris-virginica Iris-virginica\n",
      "Iris-virginica Iris-virginica\n",
      "Iris-virginica Iris-virginica\n",
      "Accuracy:  96.07843137254902 %\n"
     ]
    }
   ],
   "source": [
    "def main():\n",
    "    trainset=[]\n",
    "    testset=[]\n",
    "    split_size=0.67\n",
    "    load_data('datasets/iris.csv',split_size,trainset,testset)\n",
    "    print('Train: ',len(trainset))\n",
    "    print('Test: ',len(testset))\n",
    "    predictions=[]\n",
    "    k=3\n",
    "    for i in range(len(testset)):\n",
    "        neighbors=get_neighbors(trainset,testset[i],k)\n",
    "        result=get_response(neighbors)\n",
    "        predictions.append(result)\n",
    "        print(result,testset[i][-1])\n",
    "    accuracy=get_accuracy(testset,predictions)\n",
    "    print('Accuracy: ',accuracy,'%')\n",
    "main()"
   ]
  }
 ],
 "metadata": {
  "kernelspec": {
   "display_name": "Python 3",
   "language": "python",
   "name": "python3"
  },
  "language_info": {
   "codemirror_mode": {
    "name": "ipython",
    "version": 3
   },
   "file_extension": ".py",
   "mimetype": "text/x-python",
   "name": "python",
   "nbconvert_exporter": "python",
   "pygments_lexer": "ipython3",
   "version": "3.8.5"
  }
 },
 "nbformat": 4,
 "nbformat_minor": 4
}
