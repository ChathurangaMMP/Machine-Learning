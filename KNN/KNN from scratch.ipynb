{
 "cells": [
  {
   "cell_type": "code",
   "execution_count": 1,
   "metadata": {},
   "outputs": [],
   "source": [
    "import random\n",
    "import csv\n",
    "\n",
    "def load_data(filename,split_size,trainset=[],testset=[]):\n",
    "    with open(filename,'r') as file:\n",
    "        rows=csv.reader(file)\n",
    "        data=list(rows)\n",
    "        for i in range(1,len(data)-1):\n",
    "            #for j in range(1,5):\n",
    "                #data[i][j]=float(data[i][j])\n",
    "            if random.random()<split_size:\n",
    "                trainset.append(data[i])\n",
    "            else:\n",
    "                testset.append(data[i])"
   ]
  },
  {
   "cell_type": "code",
   "execution_count": 2,
   "metadata": {},
   "outputs": [],
   "source": [
    "import math\n",
    "\n",
    "def euclidean_distance(point1,point2,index_len):\n",
    "    distance=0\n",
    "    for i in range(1,index_len):\n",
    "        distance+=pow((float(point1[i])-float(point2[i])),2)\n",
    "    return math.sqrt(distance)"
   ]
  },
  {
   "cell_type": "code",
   "execution_count": 3,
   "metadata": {},
   "outputs": [],
   "source": [
    "import operator\n",
    "\n",
    "def get_neighbors(trainset,testpoint,k):\n",
    "    distance=[]\n",
    "    index_len=len(testpoint)-1\n",
    "    for n in range(len(trainset)):\n",
    "        dist=euclidean_distance(testpoint,trainset[n],index_len)\n",
    "        distance.append((trainset[n],dist))\n",
    "    distance.sort(key=operator.itemgetter(1))\n",
    "    neighbors=[]\n",
    "    for m in range(k):\n",
    "        neighbors.append(distance[m][0])\n",
    "    return neighbors"
   ]
  },
  {
   "cell_type": "code",
   "execution_count": 4,
   "metadata": {},
   "outputs": [],
   "source": [
    "def get_response(neighbors):\n",
    "    votes={}\n",
    "    for f in range(len(neighbors)):\n",
    "        response=neighbors[f][-1]\n",
    "        if response in votes:\n",
    "            votes[response]+=1\n",
    "        else:\n",
    "            votes[response]=1\n",
    "    sortedvotes=sorted(votes.items(),key=operator.itemgetter(1),reverse=True)\n",
    "    return sortedvotes[0][0]"
   ]
  },
  {
   "cell_type": "code",
   "execution_count": 5,
   "metadata": {},
   "outputs": [],
   "source": [
    "def get_accuracy(testset,predictions):\n",
    "    correct=0\n",
    "    for g in range(len(testset)):\n",
    "        if testset[g][-1] == predictions[g]:\n",
    "            correct+=1\n",
    "    return (correct/float(len(testset)))*100.0"
   ]
  },
  {
   "cell_type": "code",
   "execution_count": 6,
   "metadata": {},
   "outputs": [
    {
     "name": "stdout",
     "output_type": "stream",
     "text": [
      "Train:  96\n",
      "Test:  53\n",
      "Iris-setosa Iris-setosa\n",
      "Iris-setosa Iris-setosa\n",
      "Iris-setosa Iris-setosa\n",
      "Iris-setosa Iris-setosa\n",
      "Iris-setosa Iris-setosa\n",
      "Iris-setosa Iris-setosa\n",
      "Iris-setosa Iris-setosa\n",
      "Iris-setosa Iris-setosa\n",
      "Iris-setosa Iris-setosa\n",
      "Iris-setosa Iris-setosa\n",
      "Iris-setosa Iris-setosa\n",
      "Iris-setosa Iris-setosa\n",
      "Iris-setosa Iris-setosa\n",
      "Iris-setosa Iris-setosa\n",
      "Iris-setosa Iris-setosa\n",
      "Iris-setosa Iris-setosa\n",
      "Iris-setosa Iris-setosa\n",
      "Iris-versicolor Iris-versicolor\n",
      "Iris-versicolor Iris-versicolor\n",
      "Iris-versicolor Iris-versicolor\n",
      "Iris-versicolor Iris-versicolor\n",
      "Iris-versicolor Iris-versicolor\n",
      "Iris-versicolor Iris-versicolor\n",
      "Iris-versicolor Iris-versicolor\n",
      "Iris-virginica Iris-versicolor\n",
      "Iris-versicolor Iris-versicolor\n",
      "Iris-versicolor Iris-versicolor\n",
      "Iris-versicolor Iris-versicolor\n",
      "Iris-versicolor Iris-versicolor\n",
      "Iris-versicolor Iris-versicolor\n",
      "Iris-versicolor Iris-versicolor\n",
      "Iris-versicolor Iris-versicolor\n",
      "Iris-versicolor Iris-versicolor\n",
      "Iris-versicolor Iris-versicolor\n",
      "Iris-versicolor Iris-versicolor\n",
      "Iris-versicolor Iris-versicolor\n",
      "Iris-virginica Iris-virginica\n",
      "Iris-versicolor Iris-virginica\n",
      "Iris-virginica Iris-virginica\n",
      "Iris-virginica Iris-virginica\n",
      "Iris-virginica Iris-virginica\n",
      "Iris-virginica Iris-virginica\n",
      "Iris-virginica Iris-virginica\n",
      "Iris-virginica Iris-virginica\n",
      "Iris-virginica Iris-virginica\n",
      "Iris-virginica Iris-virginica\n",
      "Iris-virginica Iris-virginica\n",
      "Iris-versicolor Iris-virginica\n",
      "Iris-virginica Iris-virginica\n",
      "Iris-virginica Iris-virginica\n",
      "Iris-virginica Iris-virginica\n",
      "Iris-virginica Iris-virginica\n",
      "Iris-virginica Iris-virginica\n",
      "Accuracy:  94.33962264150944 %\n"
     ]
    }
   ],
   "source": [
    "def main():\n",
    "    trainset=[]\n",
    "    testset=[]\n",
    "    split_size=0.67\n",
    "    load_data('datasets/iris.csv',split_size,trainset,testset)\n",
    "    print('Train: ',len(trainset))\n",
    "    print('Test: ',len(testset))\n",
    "    predictions=[]\n",
    "    k=3\n",
    "    for i in range(len(testset)):\n",
    "        neighbors=get_neighbors(trainset,testset[i],k)\n",
    "        result=get_response(neighbors)\n",
    "        predictions.append(result)\n",
    "        print(result,testset[i][-1])\n",
    "    accuracy=get_accuracy(testset,predictions)\n",
    "    print('Accuracy: ',accuracy,'%')\n",
    "main()"
   ]
  },
  {
   "cell_type": "code",
   "execution_count": null,
   "metadata": {},
   "outputs": [],
   "source": []
  }
 ],
 "metadata": {
  "kernelspec": {
   "display_name": "Python 3",
   "language": "python",
   "name": "python3"
  },
  "language_info": {
   "codemirror_mode": {
    "name": "ipython",
    "version": 3
   },
   "file_extension": ".py",
   "mimetype": "text/x-python",
   "name": "python",
   "nbconvert_exporter": "python",
   "pygments_lexer": "ipython3",
   "version": "3.8.5"
  }
 },
 "nbformat": 4,
 "nbformat_minor": 4
}
