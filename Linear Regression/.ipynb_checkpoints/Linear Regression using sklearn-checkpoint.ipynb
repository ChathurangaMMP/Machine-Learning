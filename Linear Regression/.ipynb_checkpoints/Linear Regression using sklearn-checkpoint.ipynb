{
 "cells": [
  {
   "cell_type": "markdown",
   "metadata": {},
   "source": [
    "# Linear Regression using 'sklearn' library"
   ]
  },
  {
   "cell_type": "markdown",
   "metadata": {},
   "source": [
    "**scikit-learn** or **sklearn** is a python library which have functionalities in machine learning. It is opensource and easy to use. This can be used for simple modelling purposes.\n",
    "\n",
    "Documentation: https://scikit-learn.org/stable/\n",
    "\n",
    "All the necessary functions are included in the **sklearn** library and we are going to import and use them when we need those."
   ]
  },
  {
   "cell_type": "markdown",
   "metadata": {},
   "source": [
    "First, the dataset must be loaded to our working area. In here, we are using a simple dataset for demonstration."
   ]
  },
  {
   "cell_type": "code",
   "execution_count": 1,
   "metadata": {},
   "outputs": [
    {
     "data": {
      "text/html": [
       "<div>\n",
       "<style scoped>\n",
       "    .dataframe tbody tr th:only-of-type {\n",
       "        vertical-align: middle;\n",
       "    }\n",
       "\n",
       "    .dataframe tbody tr th {\n",
       "        vertical-align: top;\n",
       "    }\n",
       "\n",
       "    .dataframe thead th {\n",
       "        text-align: right;\n",
       "    }\n",
       "</style>\n",
       "<table border=\"1\" class=\"dataframe\">\n",
       "  <thead>\n",
       "    <tr style=\"text-align: right;\">\n",
       "      <th></th>\n",
       "      <th>YearsExperience</th>\n",
       "      <th>Salary</th>\n",
       "    </tr>\n",
       "  </thead>\n",
       "  <tbody>\n",
       "    <tr>\n",
       "      <th>0</th>\n",
       "      <td>1.1</td>\n",
       "      <td>39343</td>\n",
       "    </tr>\n",
       "    <tr>\n",
       "      <th>1</th>\n",
       "      <td>1.3</td>\n",
       "      <td>46205</td>\n",
       "    </tr>\n",
       "    <tr>\n",
       "      <th>2</th>\n",
       "      <td>1.5</td>\n",
       "      <td>37731</td>\n",
       "    </tr>\n",
       "    <tr>\n",
       "      <th>3</th>\n",
       "      <td>2.0</td>\n",
       "      <td>43525</td>\n",
       "    </tr>\n",
       "    <tr>\n",
       "      <th>4</th>\n",
       "      <td>2.2</td>\n",
       "      <td>39891</td>\n",
       "    </tr>\n",
       "  </tbody>\n",
       "</table>\n",
       "</div>"
      ],
      "text/plain": [
       "   YearsExperience  Salary\n",
       "0              1.1   39343\n",
       "1              1.3   46205\n",
       "2              1.5   37731\n",
       "3              2.0   43525\n",
       "4              2.2   39891"
      ]
     },
     "execution_count": 1,
     "metadata": {},
     "output_type": "execute_result"
    }
   ],
   "source": [
    "import pandas as pd\n",
    "import numpy as np\n",
    "\n",
    "salary_data=pd.read_csv('datasets\\Salary_Data.csv')\n",
    "salary_data.head()"
   ]
  },
  {
   "cell_type": "markdown",
   "metadata": {},
   "source": [
    "Then the data should be divided in to *independent* and *depended* variables. In this situation, **YearsExperience** is taken as the independent variable and **Salary** is taken as the dependent variable."
   ]
  },
  {
   "cell_type": "code",
   "execution_count": 2,
   "metadata": {},
   "outputs": [],
   "source": [
    "X=salary_data.iloc[:,:-1].values\n",
    "y=salary_data.iloc[:,1].values"
   ]
  },
  {
   "cell_type": "markdown",
   "metadata": {},
   "source": [
    "The next step is dividing the data in to **training** and **testing** sets. For this, we can use **train_test_split** function of the **sklearn.model_selection**. \n",
    "\n",
    "The **test_size** parameter determines the portion of the *test data* from the original data set. **test_size = 0.2** means, 20% of the data set has used as the testing data set."
   ]
  },
  {
   "cell_type": "code",
   "execution_count": 3,
   "metadata": {},
   "outputs": [],
   "source": [
    "from sklearn.model_selection import train_test_split\n",
    "X_train,X_test,y_train,y_test=train_test_split(X,y,test_size=0.35,random_state=0)"
   ]
  },
  {
   "cell_type": "markdown",
   "metadata": {},
   "source": [
    "For this data set, there is no need of standardizing data. Hence, we can move to the model creating step. So, the **Linear Regression model** can be selected from the *sklearn* library. \n",
    "\n",
    "In here, an object of the model has created, so that the further processing will be easy. To train the model, **fit** function can be used. Input parameters for this function are training sets of **X** and **y** variables."
   ]
  },
  {
   "cell_type": "code",
   "execution_count": 4,
   "metadata": {},
   "outputs": [
    {
     "data": {
      "text/plain": [
       "LinearRegression()"
      ]
     },
     "execution_count": 4,
     "metadata": {},
     "output_type": "execute_result"
    }
   ],
   "source": [
    "from sklearn.linear_model import LinearRegression\n",
    "lr_object=LinearRegression()\n",
    "lr_object.fit(X_train,y_train)"
   ]
  },
  {
   "cell_type": "markdown",
   "metadata": {},
   "source": [
    "Then we can make predictions using our trained model. For this, **predict** function is used."
   ]
  },
  {
   "cell_type": "code",
   "execution_count": 5,
   "metadata": {},
   "outputs": [
    {
     "data": {
      "text/plain": [
       "array([ 40551.75603614, 123166.57867471,  64960.68090662,  63083.0713012 ,\n",
       "       115656.14025302, 108145.70183133, 116594.94505573,  64021.87610391,\n",
       "        76226.33853916, 100635.26340965,  53695.02327409])"
      ]
     },
     "execution_count": 5,
     "metadata": {},
     "output_type": "execute_result"
    }
   ],
   "source": [
    "y_pred=lr_object.predict(X_test)\n",
    "y_pred"
   ]
  },
  {
   "cell_type": "markdown",
   "metadata": {},
   "source": [
    "Next step is determining the accuracy of the prediction. For the Linear Regression model, we can’t determine the model accuracy directly. So, the following methods can be used for this purpose. Among them, **R2 score** gives very good measurement of accuracy. If the value of **R2 score** is closer to **1.0**, it means that model predictions have higher accuracy."
   ]
  },
  {
   "cell_type": "code",
   "execution_count": 17,
   "metadata": {},
   "outputs": [
    {
     "name": "stdout",
     "output_type": "stream",
     "text": [
      "Mean Absolute Error:  3352.0271062423035\n",
      "Mean Squard Error:  19421097.588238075\n",
      "Root Mean Squard Error:  4406.9374386571535\n",
      "Root Mean Squard Error:  4406.9374386571535\n",
      "Variance Score:  0.9777715587829975\n",
      "R2 Score:  0.9766870911747516\n"
     ]
    }
   ],
   "source": [
    "from sklearn import metrics\n",
    "print('Mean Absolute Error: ',metrics.mean_absolute_error(y_test,y_pred))\n",
    "print('Mean Squard Error: ',metrics.mean_squared_error(y_test,y_pred))\n",
    "\n",
    "print('Root Mean Squard Error: ',metrics.mean_squared_error(y_test,y_pred,squared=False))\n",
    "print('Root Mean Squard Error: ',np.sqrt(metrics.mean_squared_error(y_test,y_pred)))\n",
    "\n",
    "print(\"Variance Score: \",metrics.explained_variance_score(y_test,y_pred))\n",
    "print(\"R2 Score: \",metrics.r2_score(y_test,y_pred))"
   ]
  },
  {
   "cell_type": "markdown",
   "metadata": {},
   "source": [
    "The following methods can’t use to determine the accuracy of Linear Regression model."
   ]
  },
  {
   "cell_type": "code",
   "execution_count": null,
   "metadata": {},
   "outputs": [],
   "source": [
    "'''from sklearn.metrics import confusion_matrix\n",
    "confusion_matrix(y_test,y_pred)\n",
    "\n",
    "from sklearn.metrics import accuracy_score\n",
    "accuracy_score(y_test,y_pred)'''"
   ]
  }
 ],
 "metadata": {
  "kernelspec": {
   "display_name": "Python 3",
   "language": "python",
   "name": "python3"
  },
  "language_info": {
   "codemirror_mode": {
    "name": "ipython",
    "version": 3
   },
   "file_extension": ".py",
   "mimetype": "text/x-python",
   "name": "python",
   "nbconvert_exporter": "python",
   "pygments_lexer": "ipython3",
   "version": "3.8.5"
  }
 },
 "nbformat": 4,
 "nbformat_minor": 4
}
